{
  "nbformat": 4,
  "nbformat_minor": 0,
  "metadata": {
    "colab": {
      "provenance": []
    },
    "kernelspec": {
      "name": "python3",
      "display_name": "Python 3"
    },
    "language_info": {
      "name": "python"
    }
  },
  "cells": [
    {
      "cell_type": "code",
      "execution_count": 1,
      "metadata": {
        "colab": {
          "base_uri": "https://localhost:8080/"
        },
        "id": "G6V99feUqKdi",
        "outputId": "d0dafbac-d10b-410c-9330-2ee736003b87"
      },
      "outputs": [
        {
          "output_type": "stream",
          "name": "stdout",
          "text": [
            "fai bollire l'acqua\n",
            "taglia il guanciale\n",
            "dividi i tuorli\n",
            "mixa con pecorino e pepe\n",
            "butta i tonnarelli nell'acqua\n"
          ]
        }
      ],
      "source": [
        "# lets review the carbonara recipe\n",
        "\n",
        "\n",
        "def pasta_alla_carbonara(che_pasta):\n",
        "  print(\"fai bollire l'acqua\")\n",
        "  print(\"taglia il guanciale\")\n",
        "  print(\"dividi i tuorli\")\n",
        "  print(\"mixa con pecorino e pepe\")\n",
        "  print(\"butta i \" + che_pasta + \" nell'acqua\")\n",
        "\n",
        "\n",
        "pasta = \"tonnarelli\"\n",
        "pasta_alla_carbonara(pasta)"
      ]
    }
  ]
}