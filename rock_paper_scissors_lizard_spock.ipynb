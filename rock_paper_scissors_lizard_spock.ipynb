{
  "nbformat": 4,
  "nbformat_minor": 0,
  "metadata": {
    "colab": {
      "provenance": []
    },
    "kernelspec": {
      "name": "python3",
      "display_name": "Python 3"
    },
    "language_info": {
      "name": "python"
    }
  },
  "cells": [
    {
      "cell_type": "code",
      "source": [
        "import random\n",
        "\n",
        "def gioco():\n",
        "    punti_player_one = 0\n",
        "    punti_computer = 0\n",
        "\n",
        "    while punti_player_one < 5 and punti_computer < 5:\n",
        "        scelta_player_one = input(\"giochiamo a carta forbice sasso lizard spock, scegli... 3 2 1: \")\n",
        "        carta_forbice_sasso = [\"carta\", \"forbice\", \"sasso\", \"lizard\", \"spock\"]\n",
        "        scelta_computer = random.choice(carta_forbice_sasso)\n",
        "        print(\"io scelgo\", scelta_computer)\n",
        "\n",
        "        if scelta_player_one == scelta_computer:\n",
        "            print(\"pari rigiochiamo!\")\n",
        "        elif (scelta_player_one == \"carta\" and scelta_computer == \"sasso\") or \\\n",
        "             (scelta_player_one == \"forbice\" and scelta_computer == \"carta\") or \\\n",
        "             (scelta_player_one == \"sasso\" and scelta_computer == \"forbice\") or \\\n",
        "             (scelta_player_one == \"lizard\" and scelta_computer == \"spock\") or \\\n",
        "             (scelta_player_one == \"spock\" and scelta_computer == \"carta\"):\n",
        "            print(\"bravo hai vinto!\")\n",
        "            punti_player_one += 1\n",
        "        else:\n",
        "            print(\"ho vinto!\")\n",
        "            punti_computer += 1\n",
        "\n",
        "        print(\"punteggio attuale: tu:\", punti_player_one, \"io:\", punti_computer)\n",
        "        print()\n",
        "\n",
        "    if punti_player_one == 5:\n",
        "        print(\"hai vinto la partita!\")\n",
        "    else:\n",
        "        print(\"ho vinto la partita!\")\n",
        "\n",
        "gioco()\n"
      ],
      "metadata": {
        "id": "I8-pwgnPUnm0",
        "colab": {
          "base_uri": "https://localhost:8080/"
        },
        "outputId": "53ae62d9-174f-4742-8f1e-680d1a276168"
      },
      "execution_count": 3,
      "outputs": [
        {
          "output_type": "stream",
          "name": "stdout",
          "text": [
            "giochiamo a carta forbice sasso lizard spock, scegli... 3 2 1: lizard\n",
            "io scelgo lizard\n",
            "pari rigiochiamo!\n",
            "punteggio attuale: tu: 0 io: 0\n",
            "\n",
            "giochiamo a carta forbice sasso lizard spock, scegli... 3 2 1: carta\n",
            "io scelgo forbice\n",
            "ho vinto!\n",
            "punteggio attuale: tu: 0 io: 1\n",
            "\n",
            "giochiamo a carta forbice sasso lizard spock, scegli... 3 2 1: sasso\n",
            "io scelgo lizard\n",
            "ho vinto!\n",
            "punteggio attuale: tu: 0 io: 2\n",
            "\n",
            "giochiamo a carta forbice sasso lizard spock, scegli... 3 2 1: forbice\n",
            "io scelgo carta\n",
            "bravo hai vinto!\n",
            "punteggio attuale: tu: 1 io: 2\n",
            "\n",
            "giochiamo a carta forbice sasso lizard spock, scegli... 3 2 1: lizard\n",
            "io scelgo lizard\n",
            "pari rigiochiamo!\n",
            "punteggio attuale: tu: 1 io: 2\n",
            "\n",
            "giochiamo a carta forbice sasso lizard spock, scegli... 3 2 1: lizard\n",
            "io scelgo spock\n",
            "bravo hai vinto!\n",
            "punteggio attuale: tu: 2 io: 2\n",
            "\n",
            "giochiamo a carta forbice sasso lizard spock, scegli... 3 2 1: spock\n",
            "io scelgo forbice\n",
            "ho vinto!\n",
            "punteggio attuale: tu: 2 io: 3\n",
            "\n",
            "giochiamo a carta forbice sasso lizard spock, scegli... 3 2 1: sasso\n",
            "io scelgo carta\n",
            "ho vinto!\n",
            "punteggio attuale: tu: 2 io: 4\n",
            "\n",
            "giochiamo a carta forbice sasso lizard spock, scegli... 3 2 1: carta\n",
            "io scelgo lizard\n",
            "ho vinto!\n",
            "punteggio attuale: tu: 2 io: 5\n",
            "\n",
            "ho vinto la partita!\n"
          ]
        }
      ]
    }
  ]
}