{
  "nbformat": 4,
  "nbformat_minor": 0,
  "metadata": {
    "colab": {
      "provenance": []
    },
    "kernelspec": {
      "name": "python3",
      "display_name": "Python 3"
    },
    "language_info": {
      "name": "python"
    }
  },
  "cells": [
    {
      "cell_type": "code",
      "execution_count": null,
      "metadata": {
        "id": "uNL8cC-vh2Aq"
      },
      "outputs": [],
      "source": [
        "# for\n",
        "\n",
        "movies = [\"matrix\", \"fight_club\", \"amsterdam\", \"sin_city\", \"magnolia\"]\n",
        "for titles in movies:\n",
        "    print(\"today i watch\", titles)\n",
        "\n",
        "print(\"the best one was\", movies[1])\n",
        "\n",
        "\n"
      ]
    }
  ]
}