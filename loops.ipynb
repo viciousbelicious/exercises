{
  "nbformat": 4,
  "nbformat_minor": 0,
  "metadata": {
    "colab": {
      "provenance": []
    },
    "kernelspec": {
      "name": "python3",
      "display_name": "Python 3"
    },
    "language_info": {
      "name": "python"
    }
  },
  "cells": [
    {
      "cell_type": "code",
      "execution_count": 1,
      "metadata": {
        "colab": {
          "base_uri": "https://localhost:8080/"
        },
        "id": "uNL8cC-vh2Aq",
        "outputId": "eb0401fe-94c3-4661-b904-4887c7ace0fc"
      },
      "outputs": [
        {
          "output_type": "stream",
          "name": "stdout",
          "text": [
            "today i watch matrix\n",
            "today i watch fight_club\n",
            "today i watch amsterdam\n",
            "today i watch sin_city\n",
            "today i watch magnolia\n",
            "the best one was fight_club\n"
          ]
        }
      ],
      "source": [
        "# for\n",
        "\n",
        "movies = [\"matrix\", \"fight_club\", \"amsterdam\", \"sin_city\", \"magnolia\"]\n",
        "for titles in movies:\n",
        "    print(\"today i watch\", titles)\n",
        "\n",
        "print(\"the best one was\", movies[1])\n",
        "\n",
        "\n"
      ]
    }
  ]
}