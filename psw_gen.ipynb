{
  "nbformat": 4,
  "nbformat_minor": 0,
  "metadata": {
    "colab": {
      "provenance": []
    },
    "kernelspec": {
      "name": "python3",
      "display_name": "Python 3"
    },
    "language_info": {
      "name": "python"
    }
  },
  "cells": [
    {
      "cell_type": "code",
      "execution_count": 1,
      "metadata": {
        "colab": {
          "base_uri": "https://localhost:8080/",
          "height": 53
        },
        "id": "41jNXDx6HOIo",
        "outputId": "d4b21066-26f5-4824-c4c1-cecb2f0353fb"
      },
      "outputs": [
        {
          "output_type": "stream",
          "name": "stdout",
          "text": [
            "La tua nuova password è: 0gMBzhe6\n"
          ]
        },
        {
          "output_type": "execute_result",
          "data": {
            "text/plain": [
              "'0gMBzhe6'"
            ],
            "application/vnd.google.colaboratory.intrinsic+json": {
              "type": "string"
            }
          },
          "metadata": {},
          "execution_count": 1
        }
      ],
      "source": [
        "import random\n",
        "import string\n",
        "\n",
        "maiusc = list(string.ascii_uppercase)\n",
        "minusc = list(string.ascii_lowercase)\n",
        "cifre = list(map(str, range(10)))\n",
        "password = []\n",
        "\n",
        "def password_gen(parole):\n",
        "    for caratteri in range(8):\n",
        "    # per ogni carattere seleziono casualmente una delle liste di origine\n",
        "        pool = random.choice([maiusc, minusc, cifre])\n",
        "    # aggiunge un elemento per generare la password\n",
        "        scelta = random.choice(pool)\n",
        "        password.append(scelta)\n",
        "\n",
        "    # unisco gli elementi nella lista in una stringa\n",
        "    password_str = ''.join(password)\n",
        "    print(\"La tua nuova password è:\", password_str)\n",
        "\n",
        "    return password_str\n",
        "\n",
        "password_gen(password)"
      ]
    }
  ]
}